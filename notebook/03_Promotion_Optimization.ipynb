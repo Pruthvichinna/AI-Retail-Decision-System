{
 "cells": [
  {
   "cell_type": "code",
   "execution_count": 1,
   "id": "e6ecef3a-ff6a-4812-9b0e-0092ab4e7694",
   "metadata": {},
   "outputs": [
    {
     "name": "stdout",
     "output_type": "stream",
     "text": [
      "✅ Data loading and preprocessing complete.\n"
     ]
    }
   ],
   "source": [
    "import sys\n",
    "sys.path.append('../')\n",
    "import pandas as pd\n",
    "from src.preprocess import load_and_preprocess_data\n",
    "\n",
    "master_df = load_and_preprocess_data('../data')"
   ]
  },
  {
   "cell_type": "code",
   "execution_count": 5,
   "id": "a77b17aa-2b79-45d0-a0f1-336f54e2b0ba",
   "metadata": {},
   "outputs": [
    {
     "name": "stdout",
     "output_type": "stream",
     "text": [
      "--- Corrected Data for Optimization ---\n",
      "                         product_id    avg_price  weekly_demand_forecast  \\\n",
      "0  6cdd53843498f92890544667809f1595   350.834615                1.500000   \n",
      "1  99a4788cb24856965c36a24e339b6058    88.167131                4.692308   \n",
      "2  bb50f2e236e5eea0100680137654686c   327.615385                1.875000   \n",
      "3  d1c427060a0f73f6b889a5c7c61f2ac4   137.651633                3.298077   \n",
      "4  d6160fb7873f184099d9bc95e30376af  1397.124000                0.336538   \n",
      "\n",
      "   discount_price  promo_demand_forecast  \n",
      "0      315.751154               1.800000  \n",
      "1       79.350418               5.630769  \n",
      "2      294.853846               2.250000  \n",
      "3      123.886469               3.957692  \n",
      "4     1257.411600               0.403846  \n"
     ]
    }
   ],
   "source": [
    "# --- Corrected Data Preparation for Optimization ---\n",
    "\n",
    "# First, let's find our top 5 products by revenue\n",
    "top_products = master_df.groupby('product_id')['price'].sum().nlargest(5).index\n",
    "\n",
    "# Filter our master_df to only include these top products\n",
    "top_products_df = master_df[master_df['product_id'].isin(top_products)]\n",
    "\n",
    "# ---- Correctly calculate the number of weeks in the dataset ----\n",
    "min_date = master_df['order_purchase_timestamp'].min()\n",
    "max_date = master_df['order_purchase_timestamp'].max()\n",
    "number_of_weeks = (max_date - min_date).days / 7\n",
    "\n",
    "# Now, create a simple summary table for our optimization problem\n",
    "# We'll get the average price and the CORRECT weekly demand forecast\n",
    "product_summary = top_products_df.groupby('product_id').agg(\n",
    "    avg_price=('price', 'mean'),\n",
    "    # Correctly calculate weekly demand: total units sold / number of weeks\n",
    "    weekly_demand_forecast=('order_item_id', lambda x: x.count() / number_of_weeks)\n",
    ").reset_index()\n",
    "\n",
    "# ---- Business Assumptions (same as before) ----\n",
    "promo_discount = 0.10  # 10%\n",
    "demand_lift = 1.2      # 20% increase\n",
    "\n",
    "product_summary['discount_price'] = product_summary['avg_price'] * (1 - promo_discount)\n",
    "product_summary['promo_demand_forecast'] = product_summary['weekly_demand_forecast'] * demand_lift\n",
    "\n",
    "print(\"--- Corrected Data for Optimization ---\")\n",
    "print(product_summary)"
   ]
  },
  {
   "cell_type": "code",
   "execution_count": 3,
   "id": "11b1b523-34a5-4786-9d89-2f55ea2e9b06",
   "metadata": {},
   "outputs": [
    {
     "name": "stdout",
     "output_type": "stream",
     "text": [
      "Requirement already satisfied: pulp in d:\\projects\\tiger\\venv\\lib\\site-packages (3.3.0)\n",
      "Note: you may need to restart the kernel to use updated packages.\n"
     ]
    }
   ],
   "source": [
    "pip install pulp"
   ]
  },
  {
   "cell_type": "code",
   "execution_count": 6,
   "id": "94be2709-cc1f-4f56-a41c-45f75148a39c",
   "metadata": {},
   "outputs": [
    {
     "name": "stdout",
     "output_type": "stream",
     "text": [
      "Solving the optimization problem...\n",
      "✅ Solution found.\n",
      "\n",
      "--- Optimal Promotion Plan ---\n",
      "✅ Promote Product: 6cdd53843498f92890544667809f1595\n",
      "✅ Promote Product: 99a4788cb24856965c36a24e339b6058\n",
      "✅ Promote Product: bb50f2e236e5eea0100680137654686c\n",
      "✅ Promote Product: d1c427060a0f73f6b889a5c7c61f2ac4\n",
      "✅ Promote Product: d6160fb7873f184099d9bc95e30376af\n",
      "\n",
      "--- Summary ---\n",
      "Maximum Expected Revenue: $2,676.68\n",
      "Total Discount Cost: $297.41\n",
      "Budget Utilization: 59.48%\n"
     ]
    }
   ],
   "source": [
    "import pulp\n",
    "\n",
    "# --- 1. Define Business Constraints ---\n",
    "# Let's set a total weekly budget for discounts.\n",
    "# The discount for a promoted item is (avg_price - discount_price).\n",
    "weekly_discount_budget = 500.00\n",
    "\n",
    "# --- 2. Initialize the Optimization Model ---\n",
    "# We define our model and state that our goal is to maximize.\n",
    "model = pulp.LpProblem(\"Promotion_Optimization\", pulp.LpMaximize)\n",
    "\n",
    "# --- 3. Define Decision Variables ---\n",
    "# We need to decide FOR EACH product, \"should we promote it or not?\"\n",
    "# This is a binary decision (0 = No, 1 = Yes).\n",
    "# We create a dictionary of variables, one for each product_id.\n",
    "products = product_summary['product_id'].tolist()\n",
    "promo_vars = pulp.LpVariable.dicts(\"Promote\", products, cat='Binary')\n",
    "\n",
    "# --- 4. Define the Objective Function ---\n",
    "# Our goal is to MAXIMIZE total revenue.\n",
    "# Total Revenue = Revenue from non-promoted items + Revenue from promoted items\n",
    "revenue_expression = pulp.lpSum([\n",
    "    # Revenue if NOT promoted (promo_vars[p] will be 0)\n",
    "    (1 - promo_vars[p]) * product_summary.loc[i, 'avg_price'] * product_summary.loc[i, 'weekly_demand_forecast'] +\n",
    "    # Revenue if PROMOTED (promo_vars[p] will be 1)\n",
    "    (promo_vars[p]) * product_summary.loc[i, 'discount_price'] * product_summary.loc[i, 'promo_demand_forecast']\n",
    "    for i, p in enumerate(products)\n",
    "])\n",
    "model += revenue_expression, \"Total_Revenue\"\n",
    "\n",
    "# --- 5. Define the Budget Constraint ---\n",
    "# The total cost of discounts cannot exceed our budget.\n",
    "# Total Discount Cost = Sum of (discount_per_item * forecasted_promo_demand * promo_decision)\n",
    "discount_cost_expression = pulp.lpSum([\n",
    "    promo_vars[p] * (product_summary.loc[i, 'avg_price'] - product_summary.loc[i, 'discount_price']) * product_summary.loc[i, 'promo_demand_forecast']\n",
    "    for i, p in enumerate(products)\n",
    "])\n",
    "model += discount_cost_expression <= weekly_discount_budget, \"Total_Discount_Budget_Constraint\"\n",
    "\n",
    "# --- 6. Solve the Problem ---\n",
    "print(\"Solving the optimization problem...\")\n",
    "model.solve()\n",
    "print(\"✅ Solution found.\")\n",
    "\n",
    "# --- 7. Display the Results ---\n",
    "print(\"\\n--- Optimal Promotion Plan ---\")\n",
    "total_revenue = 0\n",
    "total_discount_cost = 0\n",
    "\n",
    "for i, p in enumerate(products):\n",
    "    if promo_vars[p].varValue == 1:\n",
    "        print(f\"✅ Promote Product: {p}\")\n",
    "        revenue = product_summary.loc[i, 'discount_price'] * product_summary.loc[i, 'promo_demand_forecast']\n",
    "        discount_cost = (product_summary.loc[i, 'avg_price'] - product_summary.loc[i, 'discount_price']) * product_summary.loc[i, 'promo_demand_forecast']\n",
    "        total_revenue += revenue\n",
    "        total_discount_cost += discount_cost\n",
    "    else:\n",
    "        print(f\"❌ Do NOT Promote Product: {p}\")\n",
    "        revenue = product_summary.loc[i, 'avg_price'] * product_summary.loc[i, 'weekly_demand_forecast']\n",
    "        total_revenue += revenue\n",
    "\n",
    "print(\"\\n--- Summary ---\")\n",
    "print(f\"Maximum Expected Revenue: ${total_revenue:,.2f}\")\n",
    "print(f\"Total Discount Cost: ${total_discount_cost:,.2f}\")\n",
    "print(f\"Budget Utilization: {(total_discount_cost / weekly_discount_budget):.2%}\")"
   ]
  },
  {
   "cell_type": "code",
   "execution_count": null,
   "id": "ecd42af0-2b22-47bc-957d-532d4141af20",
   "metadata": {},
   "outputs": [],
   "source": []
  }
 ],
 "metadata": {
  "kernelspec": {
   "display_name": "Python 3 (ipykernel)",
   "language": "python",
   "name": "python3"
  },
  "language_info": {
   "codemirror_mode": {
    "name": "ipython",
    "version": 3
   },
   "file_extension": ".py",
   "mimetype": "text/x-python",
   "name": "python",
   "nbconvert_exporter": "python",
   "pygments_lexer": "ipython3",
   "version": "3.13.5"
  }
 },
 "nbformat": 4,
 "nbformat_minor": 5
}
