{
 "cells": [
  {
   "cell_type": "code",
   "execution_count": 1,
   "id": "c169cca5-c28a-4e01-91f0-d9da5b8cfa5e",
   "metadata": {},
   "outputs": [
    {
     "name": "stdout",
     "output_type": "stream",
     "text": [
      "Requirement already satisfied: openai in d:\\projects\\tiger\\venv\\lib\\site-packages (1.109.1)\n",
      "Requirement already satisfied: anyio<5,>=3.5.0 in d:\\projects\\tiger\\venv\\lib\\site-packages (from openai) (4.10.0)\n",
      "Requirement already satisfied: distro<2,>=1.7.0 in d:\\projects\\tiger\\venv\\lib\\site-packages (from openai) (1.9.0)\n",
      "Requirement already satisfied: httpx<1,>=0.23.0 in d:\\projects\\tiger\\venv\\lib\\site-packages (from openai) (0.28.1)\n",
      "Requirement already satisfied: jiter<1,>=0.4.0 in d:\\projects\\tiger\\venv\\lib\\site-packages (from openai) (0.11.0)\n",
      "Requirement already satisfied: pydantic<3,>=1.9.0 in d:\\projects\\tiger\\venv\\lib\\site-packages (from openai) (2.11.9)\n",
      "Requirement already satisfied: sniffio in d:\\projects\\tiger\\venv\\lib\\site-packages (from openai) (1.3.1)\n",
      "Requirement already satisfied: tqdm>4 in d:\\projects\\tiger\\venv\\lib\\site-packages (from openai) (4.67.1)\n",
      "Requirement already satisfied: typing-extensions<5,>=4.11 in d:\\projects\\tiger\\venv\\lib\\site-packages (from openai) (4.15.0)\n",
      "Requirement already satisfied: idna>=2.8 in d:\\projects\\tiger\\venv\\lib\\site-packages (from anyio<5,>=3.5.0->openai) (3.10)\n",
      "Requirement already satisfied: certifi in d:\\projects\\tiger\\venv\\lib\\site-packages (from httpx<1,>=0.23.0->openai) (2025.8.3)\n",
      "Requirement already satisfied: httpcore==1.* in d:\\projects\\tiger\\venv\\lib\\site-packages (from httpx<1,>=0.23.0->openai) (1.0.9)\n",
      "Requirement already satisfied: h11>=0.16 in d:\\projects\\tiger\\venv\\lib\\site-packages (from httpcore==1.*->httpx<1,>=0.23.0->openai) (0.16.0)\n",
      "Requirement already satisfied: annotated-types>=0.6.0 in d:\\projects\\tiger\\venv\\lib\\site-packages (from pydantic<3,>=1.9.0->openai) (0.7.0)\n",
      "Requirement already satisfied: pydantic-core==2.33.2 in d:\\projects\\tiger\\venv\\lib\\site-packages (from pydantic<3,>=1.9.0->openai) (2.33.2)\n",
      "Requirement already satisfied: typing-inspection>=0.4.0 in d:\\projects\\tiger\\venv\\lib\\site-packages (from pydantic<3,>=1.9.0->openai) (0.4.1)\n",
      "Requirement already satisfied: colorama in d:\\projects\\tiger\\venv\\lib\\site-packages (from tqdm>4->openai) (0.4.6)\n",
      "Note: you may need to restart the kernel to use updated packages.\n"
     ]
    }
   ],
   "source": [
    "pip install openai"
   ]
  },
  {
   "cell_type": "code",
   "execution_count": 2,
   "id": "42703609-74b4-4dc2-b7aa-4e9527fdff35",
   "metadata": {},
   "outputs": [
    {
     "name": "stdout",
     "output_type": "stream",
     "text": [
      "Requirement already satisfied: transformers in d:\\projects\\tiger\\venv\\lib\\site-packages (4.56.2)\n",
      "Requirement already satisfied: torch in d:\\projects\\tiger\\venv\\lib\\site-packages (2.8.0)\n",
      "Requirement already satisfied: sentencepiece in d:\\projects\\tiger\\venv\\lib\\site-packages (0.2.1)\n",
      "Requirement already satisfied: filelock in d:\\projects\\tiger\\venv\\lib\\site-packages (from transformers) (3.19.1)\n",
      "Requirement already satisfied: huggingface-hub<1.0,>=0.34.0 in d:\\projects\\tiger\\venv\\lib\\site-packages (from transformers) (0.35.1)\n",
      "Requirement already satisfied: numpy>=1.17 in d:\\projects\\tiger\\venv\\lib\\site-packages (from transformers) (2.1.3)\n",
      "Requirement already satisfied: packaging>=20.0 in d:\\projects\\tiger\\venv\\lib\\site-packages (from transformers) (25.0)\n",
      "Requirement already satisfied: pyyaml>=5.1 in d:\\projects\\tiger\\venv\\lib\\site-packages (from transformers) (6.0.2)\n",
      "Requirement already satisfied: regex!=2019.12.17 in d:\\projects\\tiger\\venv\\lib\\site-packages (from transformers) (2025.9.18)\n",
      "Requirement already satisfied: requests in d:\\projects\\tiger\\venv\\lib\\site-packages (from transformers) (2.32.5)\n",
      "Requirement already satisfied: tokenizers<=0.23.0,>=0.22.0 in d:\\projects\\tiger\\venv\\lib\\site-packages (from transformers) (0.22.1)\n",
      "Requirement already satisfied: safetensors>=0.4.3 in d:\\projects\\tiger\\venv\\lib\\site-packages (from transformers) (0.6.2)\n",
      "Requirement already satisfied: tqdm>=4.27 in d:\\projects\\tiger\\venv\\lib\\site-packages (from transformers) (4.67.1)\n",
      "Requirement already satisfied: fsspec>=2023.5.0 in d:\\projects\\tiger\\venv\\lib\\site-packages (from huggingface-hub<1.0,>=0.34.0->transformers) (2025.9.0)\n",
      "Requirement already satisfied: typing-extensions>=3.7.4.3 in d:\\projects\\tiger\\venv\\lib\\site-packages (from huggingface-hub<1.0,>=0.34.0->transformers) (4.15.0)\n",
      "Requirement already satisfied: sympy>=1.13.3 in d:\\projects\\tiger\\venv\\lib\\site-packages (from torch) (1.14.0)\n",
      "Requirement already satisfied: networkx in d:\\projects\\tiger\\venv\\lib\\site-packages (from torch) (3.5)\n",
      "Requirement already satisfied: jinja2 in d:\\projects\\tiger\\venv\\lib\\site-packages (from torch) (3.1.6)\n",
      "Requirement already satisfied: setuptools in d:\\projects\\tiger\\venv\\lib\\site-packages (from torch) (80.9.0)\n",
      "Requirement already satisfied: mpmath<1.4,>=1.1.0 in d:\\projects\\tiger\\venv\\lib\\site-packages (from sympy>=1.13.3->torch) (1.3.0)\n",
      "Requirement already satisfied: colorama in d:\\projects\\tiger\\venv\\lib\\site-packages (from tqdm>=4.27->transformers) (0.4.6)\n",
      "Requirement already satisfied: MarkupSafe>=2.0 in d:\\projects\\tiger\\venv\\lib\\site-packages (from jinja2->torch) (3.0.2)\n",
      "Requirement already satisfied: charset_normalizer<4,>=2 in d:\\projects\\tiger\\venv\\lib\\site-packages (from requests->transformers) (3.4.3)\n",
      "Requirement already satisfied: idna<4,>=2.5 in d:\\projects\\tiger\\venv\\lib\\site-packages (from requests->transformers) (3.10)\n",
      "Requirement already satisfied: urllib3<3,>=1.21.1 in d:\\projects\\tiger\\venv\\lib\\site-packages (from requests->transformers) (2.5.0)\n",
      "Requirement already satisfied: certifi>=2017.4.17 in d:\\projects\\tiger\\venv\\lib\\site-packages (from requests->transformers) (2025.8.3)\n",
      "Note: you may need to restart the kernel to use updated packages.\n"
     ]
    }
   ],
   "source": [
    "pip install transformers torch sentencepiece"
   ]
  },
  {
   "cell_type": "code",
   "execution_count": 3,
   "id": "a3e57988-a4d0-4cbc-8f1e-8e79dbeb0185",
   "metadata": {},
   "outputs": [
    {
     "name": "stderr",
     "output_type": "stream",
     "text": [
      "D:\\Projects\\Tiger\\venv\\Lib\\site-packages\\tqdm\\auto.py:21: TqdmWarning: IProgress not found. Please update jupyter and ipywidgets. See https://ipywidgets.readthedocs.io/en/stable/user_install.html\n",
      "  from .autonotebook import tqdm as notebook_tqdm\n"
     ]
    },
    {
     "name": "stdout",
     "output_type": "stream",
     "text": [
      "--- Loading local model and generating insights... ---\n"
     ]
    },
    {
     "name": "stderr",
     "output_type": "stream",
     "text": [
      "Device set to use cpu\n",
      "Both `max_new_tokens` (=256) and `max_length`(=200) seem to have been set. `max_new_tokens` will take precedence. Please refer to the documentation for more information. (https://huggingface.co/docs/transformers/main/en/main_classes/text_generation)\n"
     ]
    },
    {
     "name": "stdout",
     "output_type": "stream",
     "text": [
      "\n",
      "--- AI-Generated Weekly Promotion Plan ---\n",
      "- Maximum Expected Weekly Revenue: $2,676.68 - Total Cost of Discounts: $297.41 - Budget Utilization: 59.48%\n"
     ]
    }
   ],
   "source": [
    "from transformers import pipeline\n",
    "import torch\n",
    "\n",
    "# --- Step 1 & 2: Prepare Data and Prompt (Same as before) ---\n",
    "plan_summary = {\n",
    "    'Products to Promote': [\n",
    "        '6cdd53843498f92890544667809f1595',\n",
    "        '99a4788cb24856965c36a24e339b6058',\n",
    "        'bb50f2e236e5eea0100680137654686c',\n",
    "        'd1c427060a0f73f6b889a5c7c61f2ac4',\n",
    "        'd6160fb7873f184099d9bc95e30376af'\n",
    "    ],\n",
    "    'Expected Revenue': 2676.68,\n",
    "    'Total Discount Cost': 297.41,\n",
    "    'Budget Utilization': '59.48%'\n",
    "}\n",
    "prompt = f\"\"\"\n",
    "Based on the following data, write a concise weekly promotion plan for a store manager:\n",
    "- Products to Promote (by ID): {plan_summary['Products to Promote']}\n",
    "- Maximum Expected Weekly Revenue: ${plan_summary['Expected Revenue']:,.2f}\n",
    "- Total Cost of Discounts: ${plan_summary['Total Discount Cost']:,.2f}\n",
    "- Budget Utilization: {plan_summary['Budget Utilization']}\n",
    "\"\"\"\n",
    "\n",
    "# --- Step 3: Load the LOCAL Hugging Face Model ---\n",
    "print(\"--- Loading local model and generating insights... ---\")\n",
    "\n",
    "# Define the path to the folder where you saved the model files\n",
    "model_path = \"../models/flan-t5-small\"\n",
    "\n",
    "# Load the text generation model from your local files\n",
    "summarizer = pipeline(\"text2text-generation\", model=model_path)\n",
    "\n",
    "# Generate the report\n",
    "ai_report = summarizer(prompt, max_length=200)[0]['generated_text']\n",
    "\n",
    "# --- Step 4: Display the AI-Generated Report ---\n",
    "print(\"\\n--- AI-Generated Weekly Promotion Plan ---\")\n",
    "print(ai_report)"
   ]
  },
  {
   "cell_type": "code",
   "execution_count": null,
   "id": "18ea89d3-9c60-4120-b43f-52ef7f818ec2",
   "metadata": {},
   "outputs": [],
   "source": []
  }
 ],
 "metadata": {
  "kernelspec": {
   "display_name": "Python 3 (ipykernel)",
   "language": "python",
   "name": "python3"
  },
  "language_info": {
   "codemirror_mode": {
    "name": "ipython",
    "version": 3
   },
   "file_extension": ".py",
   "mimetype": "text/x-python",
   "name": "python",
   "nbconvert_exporter": "python",
   "pygments_lexer": "ipython3",
   "version": "3.13.5"
  }
 },
 "nbformat": 4,
 "nbformat_minor": 5
}
